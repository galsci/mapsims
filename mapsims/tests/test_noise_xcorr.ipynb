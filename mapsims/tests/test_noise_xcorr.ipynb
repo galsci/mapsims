{
 "cells": [
  {
   "cell_type": "markdown",
   "metadata": {},
   "source": [
    "# Test noise cross-correlations in spectra version 3.1.1\n",
    "\n",
    "## First generate spectra using `so_noise_models`"
   ]
  },
  {
   "cell_type": "code",
   "execution_count": null,
   "metadata": {},
   "outputs": [],
   "source": [
    "from so_models_v3 import SO_Noise_Calculator_Public_v3_1_1 as so_models\n",
    "import os\n",
    "import matplotlib\n",
    "matplotlib.rc('text', usetex=True)\n",
    "fontProperties = {\n",
    "                  'weight' : 'normal', 'size' : 16}\n",
    "import matplotlib.pyplot as plt\n",
    "\n",
    "####################################################################\n",
    "####################################################################\n",
    "##                   demonstration of the code\n",
    "####################################################################\n",
    "\n",
    "mode=1 # baseline\n",
    "fsky=1\n",
    "ellmax=1e4\n",
    "el=50.\n",
    "\n",
    "dset_label = 'LAT\\\\_V3.1'\n",
    "lat = so_models.SOLatV3point1(mode, el=el)\n",
    "corr_pairs = [(0,1),(2,3),(4,5)]\n",
    "\n",
    "print(dset_label)\n",
    "bands = lat.get_bands()\n",
    "print(\"band centers: \", lat.get_bands(), \"[GHz]\")\n",
    "print(\"beam sizes: \"  , lat.get_beams(), \"[arcmin]\")\n",
    "N_bands = len(bands)\n",
    "\n",
    "ell, N_ell_LA_T_full,N_ell_LA_P_full = lat.get_noise_curves(\n",
    "    fsky, ellmax, 1, full_covar=True, deconv_beam=False)\n",
    "\n",
    "WN_levels = lat.get_white_noise(fsky)**.5\n",
    "\n",
    "N_ell_LA_T  = N_ell_LA_T_full[range(N_bands),range(N_bands)]\n",
    "N_ell_LA_Tx = [N_ell_LA_T_full[i,j] for i,j in corr_pairs]\n",
    "N_ell_LA_P  = N_ell_LA_P_full[range(N_bands),range(N_bands)]\n",
    "N_ell_LA_Px = [N_ell_LA_P_full[i,j] for i,j in corr_pairs]\n",
    "\n",
    "print(\"white noise levels: \"  , WN_levels, \"[uK-arcmin]\")\n",
    "\n",
    "target = str(lat.__class__.__name__).split('.')[-1]"
   ]
  },
  {
   "cell_type": "code",
   "execution_count": null,
   "metadata": {},
   "outputs": [],
   "source": [
    "%matplotlib inline"
   ]
  },
  {
   "cell_type": "code",
   "execution_count": null,
   "metadata": {},
   "outputs": [],
   "source": [
    "import healpy as hp"
   ]
  },
  {
   "cell_type": "code",
   "execution_count": null,
   "metadata": {},
   "outputs": [],
   "source": [
    "nside = 256\n",
    "lmax = 3 * nside -1"
   ]
  },
  {
   "cell_type": "markdown",
   "metadata": {},
   "source": [
    "## Simulate maps with `mapsims`"
   ]
  },
  {
   "cell_type": "code",
   "execution_count": null,
   "metadata": {},
   "outputs": [],
   "source": [
    "from mapsims import SONoiseSimulator\n",
    "sim = SONoiseSimulator(nside=256,\n",
    "                       rolloff_ell=50, full_covariance=True, homogeneous=True,\n",
    "                       apply_beam_correction=False, instrument_parameters=\"simonsobs_instrument_parameters_2020.06\")"
   ]
  },
  {
   "cell_type": "code",
   "execution_count": null,
   "metadata": {},
   "outputs": [],
   "source": [
    "tube = \"LT6\""
   ]
  },
  {
   "cell_type": "code",
   "execution_count": null,
   "metadata": {},
   "outputs": [],
   "source": [
    "m = sim.simulate(tube=tube, seed=888)"
   ]
  },
  {
   "cell_type": "code",
   "execution_count": null,
   "metadata": {},
   "outputs": [],
   "source": [
    "# Check if we are on Travis-CI\n",
    "on_CI = os.environ.get(\"CI\", \"false\") == \"true\""
   ]
  },
  {
   "cell_type": "code",
   "execution_count": null,
   "metadata": {},
   "outputs": [],
   "source": [
    "if not on_CI:\n",
    "    hp.mollview(m[0][0][0], min=-100, max=100)"
   ]
  },
  {
   "cell_type": "markdown",
   "metadata": {},
   "source": [
    "## Take spectra and cross-spectra of the maps and compare them"
   ]
  },
  {
   "cell_type": "code",
   "execution_count": null,
   "metadata": {},
   "outputs": [],
   "source": [
    "cross_noise_cl = hp.anafast(m[0][0], m[1][0],\n",
    "                            lmax=lmax, use_pixel_weights=True)"
   ]
  },
  {
   "cell_type": "code",
   "execution_count": null,
   "metadata": {},
   "outputs": [],
   "source": [
    "cross_noise_cl.shape"
   ]
  },
  {
   "cell_type": "code",
   "execution_count": null,
   "metadata": {},
   "outputs": [],
   "source": [
    "corr_pairs"
   ]
  },
  {
   "cell_type": "code",
   "execution_count": null,
   "metadata": {},
   "outputs": [],
   "source": [
    "bands"
   ]
  },
  {
   "cell_type": "code",
   "execution_count": null,
   "metadata": {},
   "outputs": [],
   "source": [
    "noise_cl_27 = hp.anafast(m[0][0],\n",
    "                            lmax=lmax, use_pixel_weights=True)"
   ]
  },
  {
   "cell_type": "code",
   "execution_count": null,
   "metadata": {},
   "outputs": [],
   "source": [
    "if not on_CI:\n",
    "    plt.figure()\n",
    "    for i in range(2):\n",
    "        plt.loglog(ell,N_ell_LA_T[i], label='%i GHz (%s)' % (bands[i], dset_label),\n",
    "                   ls='-', lw=2.)\n",
    "\n",
    "    # include correlated atmospheric noise across frequencies\n",
    "    for _c,(i,j) in enumerate(corr_pairs[:1]):\n",
    "        plt.loglog(ell, N_ell_LA_T_full[i,j],\n",
    "                   label=r'$%i \\times %i$ GHz atm.' % (bands[i],bands[j]),\n",
    "                   lw=1.5)\n",
    "\n",
    "    plt.loglog(cross_noise_cl[0], lw=1, label=\"Cross spectra from maps\")\n",
    "    plt.loglog(noise_cl_27[0], lw=1, label=\"27 GHz spectrum from maps\")\n",
    "\n",
    "    plt.title(r\"$N(\\ell$) Temperature\", fontsize=18)\n",
    "    plt.ylabel(r\"$N(\\ell$) [$\\mu$K${}^2$]\", fontsize=16)\n",
    "    plt.xlabel(r\"$\\ell$\", fontsize=16)\n",
    "    plt.ylim(5e-7,1e2)\n",
    "    plt.xlim(0,10000)\n",
    "    plt.legend(loc='lower left', ncol=2, fontsize=8)\n",
    "    plt.grid()"
   ]
  },
  {
   "cell_type": "code",
   "execution_count": null,
   "metadata": {},
   "outputs": [],
   "source": [
    "ell"
   ]
  },
  {
   "cell_type": "code",
   "execution_count": null,
   "metadata": {},
   "outputs": [],
   "source": [
    "import numpy as np"
   ]
  },
  {
   "cell_type": "code",
   "execution_count": null,
   "metadata": {},
   "outputs": [],
   "source": [
    "np.testing.assert_allclose(cross_noise_cl[0][80:200],\n",
    "                           N_ell_LA_T_full[0,1][80+2:200+2],\n",
    "                           rtol=.5)"
   ]
  },
  {
   "cell_type": "code",
   "execution_count": null,
   "metadata": {},
   "outputs": [],
   "source": [
    "np.testing.assert_allclose(noise_cl_27[0][80:200],\n",
    "                           N_ell_LA_T_full[0,0][80+2:200+2],\n",
    "                           rtol=.6)"
   ]
  },
  {
   "cell_type": "markdown",
   "metadata": {},
   "source": [
    "## Polarization"
   ]
  },
  {
   "cell_type": "code",
   "execution_count": null,
   "metadata": {},
   "outputs": [],
   "source": [
    "if not on_CI:\n",
    "\n",
    "    plt.figure(figsize=(10,5))\n",
    "    #for i in range(2):\n",
    "    #    plt.loglog(ell,N_ell_LA_P[i], label='%i GHz (%s)' % (bands[i], dset_label),\n",
    "    #               color=colors[i], ls='-', lw=2.)\n",
    "\n",
    "    # include correlated atmospheric noise across frequencies\n",
    "    for _c,(i,j) in enumerate(corr_pairs[:1]):\n",
    "        plt.loglog(ell, N_ell_LA_P_full[i,j],\n",
    "                   label=r'$%i \\times %i$ GHz atm.' % (bands[i],bands[j]),\n",
    "                   lw=2)\n",
    "\n",
    "    plt.loglog(cross_noise_cl[1], lw=1, label=\"EE Cross spectrum from maps\")\n",
    "    plt.loglog(cross_noise_cl[2], lw=1, label=\"BB Cross spectrum from maps\")\n",
    "\n",
    "    plt.title(r\"$N(\\ell$) Polarization\", fontsize=18)\n",
    "    plt.ylabel(r\"$N(\\ell$) [$\\mu$K${}^2$]\", fontsize=16)\n",
    "    plt.xlabel(r\"$\\ell$\", fontsize=16)\n",
    "    plt.ylim(1e-5, 100)\n",
    "    plt.xlim(0,1000)\n",
    "    plt.legend(loc='lower left', ncol=2, fontsize=8)\n",
    "    plt.grid()"
   ]
  },
  {
   "cell_type": "code",
   "execution_count": null,
   "metadata": {},
   "outputs": [],
   "source": [
    "np.testing.assert_allclose(noise_cl_27[1][80:300],\n",
    "                           N_ell_LA_P_full[0,0][80+2:300+2],\n",
    "                           rtol=.5)"
   ]
  },
  {
   "cell_type": "code",
   "execution_count": null,
   "metadata": {},
   "outputs": [],
   "source": [
    "np.testing.assert_allclose(noise_cl_27[2][80:300],\n",
    "                           N_ell_LA_P_full[0,0][80+2:300+2],\n",
    "                           rtol=.5)"
   ]
  },
  {
   "cell_type": "code",
   "execution_count": null,
   "metadata": {},
   "outputs": [],
   "source": [
    "np.testing.assert_allclose(cross_noise_cl[1][80:300],\n",
    "                           N_ell_LA_P_full[0,1][80+2:300+2],\n",
    "                           rtol=.5)"
   ]
  },
  {
   "cell_type": "code",
   "execution_count": null,
   "metadata": {},
   "outputs": [],
   "source": [
    "np.testing.assert_allclose(cross_noise_cl[2][80:300],\n",
    "                           N_ell_LA_P_full[0,1][80+2:300+2],\n",
    "                           rtol=.5)"
   ]
  },
  {
   "cell_type": "markdown",
   "metadata": {},
   "source": [
    "## Test that the seed is working\n",
    "\n",
    "result should be deterministic"
   ]
  },
  {
   "cell_type": "code",
   "execution_count": null,
   "metadata": {},
   "outputs": [],
   "source": [
    "expected_cross_noise_cl_2 = np.array([0.01713746, 0.01950811, 0.01701195, 0.01826676, 0.01783291,\n",
    "       0.01762982, 0.0248187 , 0.01548188, 0.01839568, 0.01786226])"
   ]
  },
  {
   "cell_type": "code",
   "execution_count": null,
   "metadata": {},
   "outputs": [],
   "source": [
    "np.testing.assert_allclose(expected_cross_noise_cl_2, cross_noise_cl[2][80:90], rtol=1e-6)"
   ]
  },
  {
   "cell_type": "markdown",
   "metadata": {},
   "source": [
    "## EB XCorr should be consistent with zero"
   ]
  },
  {
   "cell_type": "code",
   "execution_count": null,
   "metadata": {},
   "outputs": [],
   "source": [
    "if not on_CI:\n",
    "    plt.figure(figsize=(10,5))\n",
    "    plt.semilogx(cross_noise_cl[5], lw=1, label=\"EB Cross spectrum from maps\")\n",
    "\n",
    "    plt.title(r\"$N(\\ell$) Polarization\", fontsize=18)\n",
    "    plt.ylabel(r\"$N(\\ell$) [$\\mu$K${}^2$]\", fontsize=16)\n",
    "    plt.xlabel(r\"$\\ell$\", fontsize=16)\n",
    "    plt.legend(loc='lower left', ncol=2, fontsize=8)\n",
    "    plt.grid()"
   ]
  },
  {
   "cell_type": "code",
   "execution_count": null,
   "metadata": {},
   "outputs": [],
   "source": [
    "assert np.std(cross_noise_cl[5]) < 1e-2"
   ]
  },
  {
   "cell_type": "code",
   "execution_count": null,
   "metadata": {},
   "outputs": [],
   "source": []
  }
 ],
 "metadata": {
  "kernelspec": {
   "display_name": "PySM 3",
   "language": "python",
   "name": "pysm3"
  },
  "language_info": {
   "codemirror_mode": {
    "name": "ipython",
    "version": 3
   },
   "file_extension": ".py",
   "mimetype": "text/x-python",
   "name": "python",
   "nbconvert_exporter": "python",
   "pygments_lexer": "ipython3",
   "version": "3.6.9"
  }
 },
 "nbformat": 4,
 "nbformat_minor": 4
}
