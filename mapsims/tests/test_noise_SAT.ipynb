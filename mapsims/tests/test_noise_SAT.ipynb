{
 "cells": [
  {
   "cell_type": "markdown",
   "metadata": {},
   "source": [
    "# Test SAT noise in spectra version 3.1.1\n",
    "\n",
    "## First generate spectra using `so_noise_models`"
   ]
  },
  {
   "cell_type": "code",
   "execution_count": null,
   "metadata": {},
   "outputs": [],
   "source": [
    "from so_models_v3 import SO_Noise_Calculator_Public_v3_1_1 as so_models\n",
    "\n",
    "import matplotlib\n",
    "matplotlib.rc('text', usetex=False)\n",
    "fontProperties = {\n",
    "                  'weight' : 'normal', 'size' : 16}\n",
    "import matplotlib.pyplot as plt\n",
    "\n",
    "####################################################################\n",
    "####################################################################\n",
    "##                   demonstration of the code\n",
    "####################################################################\n",
    "\n",
    "mode=1 # baseline\n",
    "fsky=1\n",
    "ellmax=1e4\n",
    "el=None\n",
    "\n",
    "dset_label = 'LAT\\\\_V3.1'\n",
    "tel = so_models.SOSatV3point1(mode, el=el)\n",
    "\n",
    "print(dset_label)\n",
    "bands = tel.get_bands()\n",
    "print(\"band centers: \", tel.get_bands(), \"[GHz]\")\n",
    "print(\"beam sizes: \"  , tel.get_beams(), \"[arcmin]\")\n",
    "N_bands = len(bands)\n",
    "\n",
    "ell, _,N_ell_LA_P = tel.get_noise_curves(\n",
    "    fsky, ellmax, 1, full_covar=False, deconv_beam=False, rolloff_ell=50)\n",
    "\n",
    "WN_levels = tel.get_white_noise(fsky)**.5\n",
    "\n",
    "N_ell_LA_T  = N_ell_LA_P / 2\n",
    "\n",
    "print(\"white noise levels: \"  , WN_levels, \"[uK-arcmin]\")"
   ]
  },
  {
   "cell_type": "code",
   "execution_count": null,
   "metadata": {},
   "outputs": [],
   "source": [
    "%matplotlib inline"
   ]
  },
  {
   "cell_type": "code",
   "execution_count": null,
   "metadata": {},
   "outputs": [],
   "source": [
    "import healpy as hp"
   ]
  },
  {
   "cell_type": "code",
   "execution_count": null,
   "metadata": {},
   "outputs": [],
   "source": [
    "nside = 256\n",
    "lmax = 3 * nside -1"
   ]
  },
  {
   "cell_type": "markdown",
   "metadata": {},
   "source": [
    "## Simulate maps with `mapsims`"
   ]
  },
  {
   "cell_type": "code",
   "execution_count": null,
   "metadata": {},
   "outputs": [],
   "source": [
    "from mapsims import SONoiseSimulator\n",
    "sim = SONoiseSimulator(nside=256,\n",
    "                       rolloff_ell=50, full_covariance=False, homogeneous=True,\n",
    "                       apply_beam_correction=False, instrument_parameters=\"simonsobs_instrument_parameters_2020.06\")"
   ]
  },
  {
   "cell_type": "code",
   "execution_count": null,
   "metadata": {},
   "outputs": [],
   "source": [
    "ell_mapsims, cl_T, cl_P = sim.get_fullsky_noise_spectra(tube=\"ST3\")"
   ]
  },
  {
   "cell_type": "code",
   "execution_count": null,
   "metadata": {},
   "outputs": [],
   "source": [
    "tube = \"ST3\""
   ]
  },
  {
   "cell_type": "code",
   "execution_count": null,
   "metadata": {},
   "outputs": [],
   "source": [
    "m = sim.simulate(tube=tube, seed=124)"
   ]
  },
  {
   "cell_type": "code",
   "execution_count": null,
   "metadata": {},
   "outputs": [],
   "source": [
    "hp.mollview(m[0][0][0], min=-100, max=100)"
   ]
  },
  {
   "cell_type": "markdown",
   "metadata": {},
   "source": [
    "## Take spectra and cross-spectra of the maps and compare them"
   ]
  },
  {
   "cell_type": "code",
   "execution_count": null,
   "metadata": {},
   "outputs": [],
   "source": [
    "cross_noise_cl = hp.anafast(m[0][0], m[1][0],\n",
    "                            lmax=lmax, use_pixel_weights=True)"
   ]
  },
  {
   "cell_type": "code",
   "execution_count": null,
   "metadata": {},
   "outputs": [],
   "source": [
    "cross_noise_cl.shape"
   ]
  },
  {
   "cell_type": "code",
   "execution_count": null,
   "metadata": {},
   "outputs": [],
   "source": [
    "bands"
   ]
  },
  {
   "cell_type": "code",
   "execution_count": null,
   "metadata": {},
   "outputs": [],
   "source": [
    "cross_noise_cl.std()"
   ]
  },
  {
   "cell_type": "code",
   "execution_count": null,
   "metadata": {},
   "outputs": [],
   "source": [
    "# No cross-correlation\n",
    "\n",
    "assert cross_noise_cl.std() < 1e-4            "
   ]
  },
  {
   "cell_type": "code",
   "execution_count": null,
   "metadata": {},
   "outputs": [],
   "source": [
    "noise_cl_27 = hp.anafast(m[0][0],\n",
    "                            lmax=lmax, use_pixel_weights=True)"
   ]
  },
  {
   "cell_type": "code",
   "execution_count": null,
   "metadata": {},
   "outputs": [],
   "source": [
    "plt.figure()\n",
    "for i in range(1):\n",
    "    plt.loglog(ell,N_ell_LA_T[i], label='%i GHz (%s)' % (bands[i], dset_label),\n",
    "               ls='-', lw=2.)\n",
    "\n",
    "# include correlated atmospheric noise across frequencies\n",
    "#for _c,(i,j) in enumerate(corr_pairs[:1]):\n",
    "#    plt.loglog(ell, N_ell_LA_T_full[i,j],\n",
    "#               label=r'$%i \\times %i$ GHz atm.' % (bands[i],bands[j]),\n",
    "#               lw=1.5)\n",
    "\n",
    "#plt.loglog(cross_noise_cl[0], lw=1, label=\"Cross spectra from maps\")\n",
    "plt.loglog(noise_cl_27[0], lw=1, label=\"27 GHz spectrum from maps\")\n",
    "\n",
    "plt.title(r\"$N(\\ell$) Temperature\", fontsize=18)\n",
    "plt.ylabel(r\"$N(\\ell$) [$\\mu$K${}^2$]\", fontsize=16)\n",
    "plt.xlabel(r\"$\\ell$\", fontsize=16)\n",
    "plt.ylim(1e-10,1e-2)\n",
    "plt.xlim(0,10000)\n",
    "plt.legend(loc='lower left', ncol=2, fontsize=8)\n",
    "plt.grid()"
   ]
  },
  {
   "cell_type": "code",
   "execution_count": null,
   "metadata": {},
   "outputs": [],
   "source": [
    "import numpy as np"
   ]
  },
  {
   "cell_type": "code",
   "execution_count": null,
   "metadata": {},
   "outputs": [],
   "source": [
    "np.testing.assert_allclose(noise_cl_27[0][80:300],\n",
    "                           N_ell_LA_T[0][80+2:300+2],\n",
    "                           rtol=.3)"
   ]
  },
  {
   "cell_type": "markdown",
   "metadata": {},
   "source": [
    "## Polarization"
   ]
  },
  {
   "cell_type": "code",
   "execution_count": null,
   "metadata": {},
   "outputs": [],
   "source": [
    "plt.figure(figsize=(10,5))\n",
    "#for i in range(2):\n",
    "#    plt.loglog(ell,N_ell_LA_P[i], label='%i GHz (%s)' % (bands[i], dset_label),\n",
    "#               color=colors[i], ls='-', lw=2.)\n",
    "\n",
    "# include correlated atmospheric noise across frequencies\n",
    "plt.loglog(ell, N_ell_LA_P[0],\n",
    "               label=\"27 GHz spectrum from so_noise\",\n",
    "               lw=2)\n",
    "\n",
    "plt.loglog(noise_cl_27[1], lw=1, label=\"EE spectrum from map\")\n",
    "plt.loglog(noise_cl_27[2], lw=1, label=\"BB spectrum from map\")\n",
    "\n",
    "plt.title(r\"$N(\\ell$) Polarization\", fontsize=18)\n",
    "plt.ylabel(r\"$N(\\ell$) [$\\mu$K${}^2$]\", fontsize=16)\n",
    "plt.xlabel(r\"$\\ell$\", fontsize=16)\n",
    "plt.ylim(1e-7, 100)\n",
    "plt.xlim(0,1000)\n",
    "plt.legend(loc='lower left', ncol=2, fontsize=8)\n",
    "plt.grid()"
   ]
  },
  {
   "cell_type": "code",
   "execution_count": null,
   "metadata": {},
   "outputs": [],
   "source": [
    "np.testing.assert_allclose(noise_cl_27[1][80:300],\n",
    "                           N_ell_LA_P[0][80+2:300+2],\n",
    "                           rtol=.5)"
   ]
  },
  {
   "cell_type": "code",
   "execution_count": null,
   "metadata": {},
   "outputs": [],
   "source": [
    "np.testing.assert_allclose(noise_cl_27[2][80:300],\n",
    "                           N_ell_LA_P[0][80+2:300+2],\n",
    "                           rtol=.5)"
   ]
  },
  {
   "cell_type": "markdown",
   "metadata": {},
   "source": [
    "## Test that the seed is working\n",
    "\n",
    "result should be deterministic"
   ]
  },
  {
   "cell_type": "code",
   "execution_count": null,
   "metadata": {},
   "outputs": [],
   "source": [
    "expected_cross_noise_cl_2 = np.array([0.00108629, 0.00094161, 0.00108058, 0.00098768, 0.00107019,\n",
    "       0.00106682, 0.00095412, 0.00102593, 0.00096112, 0.00108508])"
   ]
  },
  {
   "cell_type": "code",
   "execution_count": null,
   "metadata": {},
   "outputs": [],
   "source": [
    "np.testing.assert_allclose(expected_cross_noise_cl_2, noise_cl_27[2][300:310], rtol=1e-3)"
   ]
  },
  {
   "cell_type": "code",
   "execution_count": null,
   "metadata": {},
   "outputs": [],
   "source": []
  }
 ],
 "metadata": {
  "kernelspec": {
   "display_name": "Python 3",
   "language": "python",
   "name": "python3"
  },
  "language_info": {
   "codemirror_mode": {
    "name": "ipython",
    "version": 3
   },
   "file_extension": ".py",
   "mimetype": "text/x-python",
   "name": "python",
   "nbconvert_exporter": "python",
   "pygments_lexer": "ipython3",
   "version": "3.7.7"
  }
 },
 "nbformat": 4,
 "nbformat_minor": 4
}
