{
 "cells": [
  {
   "cell_type": "markdown",
   "metadata": {},
   "source": [
    "# Extract Simons Observatory instrument parameters\n",
    "\n",
    "In order to be independent of `sotodlib` and track versions of the instrument model parameters more easily, we extract them to a file included in this repository.\n",
    "\n",
    "The versioning will be YYYY.MM"
   ]
  },
  {
   "cell_type": "code",
   "execution_count": 1,
   "metadata": {},
   "outputs": [],
   "source": [
    "import numpy as np"
   ]
  },
  {
   "cell_type": "code",
   "execution_count": 2,
   "metadata": {},
   "outputs": [],
   "source": [
    "import sotodlib.sim_hardware as hardware\n",
    "\n",
    "hw = hardware.get_example()"
   ]
  },
  {
   "cell_type": "code",
   "execution_count": 3,
   "metadata": {},
   "outputs": [],
   "source": [
    "import sotodlib"
   ]
  },
  {
   "cell_type": "code",
   "execution_count": 4,
   "metadata": {},
   "outputs": [
    {
     "data": {
      "text/plain": [
       "'0+untagged.224.g0c64e07'"
      ]
     },
     "execution_count": 4,
     "metadata": {},
     "output_type": "execute_result"
    }
   ],
   "source": [
    "sotodlib.__version__"
   ]
  },
  {
   "cell_type": "code",
   "execution_count": 5,
   "metadata": {},
   "outputs": [],
   "source": [
    "import h5py"
   ]
  },
  {
   "cell_type": "code",
   "execution_count": 6,
   "metadata": {},
   "outputs": [],
   "source": [
    "fwhm_arcmin = {\"SA\" : hw.data[\"telescopes\"][\"SAT1\"][\"fwhm\"],\n",
    "\"LA\":hw.data[\"telescopes\"][\"LAT\"][\"fwhm\"]}"
   ]
  },
  {
   "cell_type": "code",
   "execution_count": 7,
   "metadata": {},
   "outputs": [],
   "source": [
    "bands = (\"LF1\", \"LF2\", \"MFF1\", \"MFF2\", \"MFS1\", \"MFS2\", \"UHF1\", \"UHF2\")\n",
    "indices = (0, 1, 2, 3, 2, 3, 4, 5)\n",
    "\n",
    "noise_band_index = dict(zip(bands, indices))"
   ]
  },
  {
   "cell_type": "code",
   "execution_count": 8,
   "metadata": {},
   "outputs": [],
   "source": [
    "from pathlib import Path"
   ]
  },
  {
   "cell_type": "code",
   "execution_count": 9,
   "metadata": {},
   "outputs": [],
   "source": [
    "dataset_name = Path(\"simonsobs_instrument_parameters_2020.06\")"
   ]
  },
  {
   "cell_type": "code",
   "execution_count": 10,
   "metadata": {},
   "outputs": [
    {
     "name": "stdout",
     "output_type": "stream",
     "text": [
      "Warning: Python module not loaded, you already have Python loaded via conda init\n"
     ]
    }
   ],
   "source": [
    "!mkdir -p $dataset_name"
   ]
  },
  {
   "cell_type": "code",
   "execution_count": 11,
   "metadata": {},
   "outputs": [],
   "source": [
    "from collections import OrderedDict\n",
    "from astropy import units as u\n",
    "from astropy.table import QTable"
   ]
  },
  {
   "cell_type": "code",
   "execution_count": 12,
   "metadata": {},
   "outputs": [
    {
     "name": "stdout",
     "output_type": "stream",
     "text": [
      "LT0_UHF1\n",
      "LT0_UHF2\n",
      "LT1_UHF1\n",
      "LT1_UHF2\n",
      "LT2_MFF1\n",
      "LT2_MFF2\n",
      "LT3_MFF1\n",
      "LT3_MFF2\n",
      "LT4_MFS1\n",
      "LT4_MFS2\n",
      "LT5_MFS1\n",
      "LT5_MFS2\n",
      "LT6_LF1\n",
      "LT6_LF2\n",
      "ST0_UHF1\n",
      "ST0_UHF2\n",
      "ST1_MFF1\n",
      "ST1_MFF2\n",
      "ST2_MFS1\n",
      "ST2_MFS2\n",
      "ST3_LF1\n",
      "ST3_LF2\n"
     ]
    }
   ],
   "source": [
    "channels = []\n",
    "for tube_id, (tube, tube_properties) in enumerate(hw.data[\"tubes\"].items()):\n",
    "    bands = [tube_properties[\"type\"] + num for num in \"12\"]\n",
    "    telescope = tube[0] + \"A\"\n",
    "    for i_band, band in enumerate(bands):\n",
    "        tag = tube + \"_\" + band\n",
    "        print(tag)\n",
    "        ch = OrderedDict()\n",
    "        ch[\"telescope\"] = telescope\n",
    "        ch[\"tag\"] = tag\n",
    "        ch[\"band\"] = band\n",
    "        ch[\"tube\"] = tube\n",
    "        ch[\"tube_id\"] = tube_id\n",
    "        ch[\"band_id\"] = i_band\n",
    "        ch[\"noise_band_index\"] = noise_band_index[band]\n",
    "        ch[\"fwhm\"] = fwhm_arcmin[telescope][band] * u.arcmin\n",
    "        properties = hw.data[\"bands\"][band]\n",
    "        ch[\"center_frequency\"] = properties[\"center\"] *u.GHz\n",
    "        QTable({\n",
    "            \"bandpass_frequency\":np.linspace(properties[\"low\"], properties[\"high\"], 10)*u.GHz,\n",
    "            \"bandpass_weight\":np.ones(10, dtype=np.float64)\n",
    "        }).write(dataset_name / f\"bandpass_{band}.tbl\", format=\"ascii.ipac\", overwrite=True)\n",
    "        channels.append(ch)"
   ]
  },
  {
   "cell_type": "code",
   "execution_count": 13,
   "metadata": {},
   "outputs": [],
   "source": [
    "instrument_parameters = QTable(channels)"
   ]
  },
  {
   "cell_type": "code",
   "execution_count": 14,
   "metadata": {},
   "outputs": [],
   "source": [
    "ipac_warning = [\"Text file in IPAC table format, read with astropy\",\n",
    "    \"from astropy.table import QTable\",\n",
    "    \"QTable.read('filename.tbl', format='ascii.ipac')\"]"
   ]
  },
  {
   "cell_type": "code",
   "execution_count": 15,
   "metadata": {},
   "outputs": [],
   "source": [
    "\n",
    "instrument_parameters.meta[\"comments\"] = [\"sotodlib_version:\" + sotodlib.__version__] + ipac_warning"
   ]
  },
  {
   "cell_type": "code",
   "execution_count": 16,
   "metadata": {},
   "outputs": [
    {
     "data": {
      "text/html": [
       "<i>QTable length=22</i>\n",
       "<table id=\"table46913254731280\" class=\"table-striped table-bordered table-condensed\">\n",
       "<thead><tr><th>telescope</th><th>tag</th><th>band</th><th>tube</th><th>tube_id</th><th>band_id</th><th>noise_band_index</th><th>fwhm</th><th>center_frequency</th></tr></thead>\n",
       "<thead><tr><th></th><th></th><th></th><th></th><th></th><th></th><th></th><th>arcmin</th><th>GHz</th></tr></thead>\n",
       "<thead><tr><th>str2</th><th>str8</th><th>str4</th><th>str3</th><th>int64</th><th>int64</th><th>int64</th><th>float64</th><th>float64</th></tr></thead>\n",
       "<tr><td>LA</td><td>LT0_UHF1</td><td>UHF1</td><td>LT0</td><td>0</td><td>0</td><td>4</td><td>1.0</td><td>225.7</td></tr>\n",
       "<tr><td>LA</td><td>LT0_UHF2</td><td>UHF2</td><td>LT0</td><td>0</td><td>1</td><td>5</td><td>0.9</td><td>285.4</td></tr>\n",
       "<tr><td>LA</td><td>LT1_UHF1</td><td>UHF1</td><td>LT1</td><td>1</td><td>0</td><td>4</td><td>1.0</td><td>225.7</td></tr>\n",
       "<tr><td>LA</td><td>LT1_UHF2</td><td>UHF2</td><td>LT1</td><td>1</td><td>1</td><td>5</td><td>0.9</td><td>285.4</td></tr>\n",
       "<tr><td>LA</td><td>LT2_MFF1</td><td>MFF1</td><td>LT2</td><td>2</td><td>0</td><td>2</td><td>2.2</td><td>92.0</td></tr>\n",
       "<tr><td>LA</td><td>LT2_MFF2</td><td>MFF2</td><td>LT2</td><td>2</td><td>1</td><td>3</td><td>1.4</td><td>147.5</td></tr>\n",
       "<tr><td>LA</td><td>LT3_MFF1</td><td>MFF1</td><td>LT3</td><td>3</td><td>0</td><td>2</td><td>2.2</td><td>92.0</td></tr>\n",
       "<tr><td>LA</td><td>LT3_MFF2</td><td>MFF2</td><td>LT3</td><td>3</td><td>1</td><td>3</td><td>1.4</td><td>147.5</td></tr>\n",
       "<tr><td>LA</td><td>LT4_MFS1</td><td>MFS1</td><td>LT4</td><td>4</td><td>0</td><td>2</td><td>2.2</td><td>88.6</td></tr>\n",
       "<tr><td>...</td><td>...</td><td>...</td><td>...</td><td>...</td><td>...</td><td>...</td><td>...</td><td>...</td></tr>\n",
       "<tr><td>LA</td><td>LT6_LF1</td><td>LF1</td><td>LT6</td><td>6</td><td>0</td><td>0</td><td>7.4</td><td>25.7</td></tr>\n",
       "<tr><td>LA</td><td>LT6_LF2</td><td>LF2</td><td>LT6</td><td>6</td><td>1</td><td>1</td><td>5.1</td><td>38.9</td></tr>\n",
       "<tr><td>SA</td><td>ST0_UHF1</td><td>UHF1</td><td>ST0</td><td>7</td><td>0</td><td>4</td><td>19.0</td><td>225.7</td></tr>\n",
       "<tr><td>SA</td><td>ST0_UHF2</td><td>UHF2</td><td>ST0</td><td>7</td><td>1</td><td>5</td><td>17.0</td><td>285.4</td></tr>\n",
       "<tr><td>SA</td><td>ST1_MFF1</td><td>MFF1</td><td>ST1</td><td>8</td><td>0</td><td>2</td><td>42.0</td><td>92.0</td></tr>\n",
       "<tr><td>SA</td><td>ST1_MFF2</td><td>MFF2</td><td>ST1</td><td>8</td><td>1</td><td>3</td><td>27.0</td><td>147.5</td></tr>\n",
       "<tr><td>SA</td><td>ST2_MFS1</td><td>MFS1</td><td>ST2</td><td>9</td><td>0</td><td>2</td><td>42.0</td><td>88.6</td></tr>\n",
       "<tr><td>SA</td><td>ST2_MFS2</td><td>MFS2</td><td>ST2</td><td>9</td><td>1</td><td>3</td><td>27.0</td><td>146.5</td></tr>\n",
       "<tr><td>SA</td><td>ST3_LF1</td><td>LF1</td><td>ST3</td><td>10</td><td>0</td><td>0</td><td>144.0</td><td>25.7</td></tr>\n",
       "<tr><td>SA</td><td>ST3_LF2</td><td>LF2</td><td>ST3</td><td>10</td><td>1</td><td>1</td><td>99.0</td><td>38.9</td></tr>\n",
       "</table>"
      ],
      "text/plain": [
       "<QTable length=22>\n",
       "telescope   tag    band tube ... noise_band_index   fwhm  center_frequency\n",
       "                             ...                   arcmin       GHz       \n",
       "   str2     str8   str4 str3 ...      int64       float64     float64     \n",
       "--------- -------- ---- ---- ... ---------------- ------- ----------------\n",
       "       LA LT0_UHF1 UHF1  LT0 ...                4     1.0            225.7\n",
       "       LA LT0_UHF2 UHF2  LT0 ...                5     0.9            285.4\n",
       "       LA LT1_UHF1 UHF1  LT1 ...                4     1.0            225.7\n",
       "       LA LT1_UHF2 UHF2  LT1 ...                5     0.9            285.4\n",
       "       LA LT2_MFF1 MFF1  LT2 ...                2     2.2             92.0\n",
       "       LA LT2_MFF2 MFF2  LT2 ...                3     1.4            147.5\n",
       "       LA LT3_MFF1 MFF1  LT3 ...                2     2.2             92.0\n",
       "       LA LT3_MFF2 MFF2  LT3 ...                3     1.4            147.5\n",
       "       LA LT4_MFS1 MFS1  LT4 ...                2     2.2             88.6\n",
       "      ...      ...  ...  ... ...              ...     ...              ...\n",
       "       LA  LT6_LF1  LF1  LT6 ...                0     7.4             25.7\n",
       "       LA  LT6_LF2  LF2  LT6 ...                1     5.1             38.9\n",
       "       SA ST0_UHF1 UHF1  ST0 ...                4    19.0            225.7\n",
       "       SA ST0_UHF2 UHF2  ST0 ...                5    17.0            285.4\n",
       "       SA ST1_MFF1 MFF1  ST1 ...                2    42.0             92.0\n",
       "       SA ST1_MFF2 MFF2  ST1 ...                3    27.0            147.5\n",
       "       SA ST2_MFS1 MFS1  ST2 ...                2    42.0             88.6\n",
       "       SA ST2_MFS2 MFS2  ST2 ...                3    27.0            146.5\n",
       "       SA  ST3_LF1  LF1  ST3 ...                0   144.0             25.7\n",
       "       SA  ST3_LF2  LF2  ST3 ...                1    99.0             38.9"
      ]
     },
     "execution_count": 16,
     "metadata": {},
     "output_type": "execute_result"
    }
   ],
   "source": [
    "instrument_parameters"
   ]
  },
  {
   "cell_type": "code",
   "execution_count": 17,
   "metadata": {},
   "outputs": [],
   "source": [
    "instrument_parameters.write(dataset_name / (dataset_name.name+\".tbl\"), format=\"ascii.ipac\", overwrite=True)"
   ]
  },
  {
   "cell_type": "code",
   "execution_count": null,
   "metadata": {},
   "outputs": [],
   "source": []
  }
 ],
 "metadata": {
  "kernelspec": {
   "display_name": "condajupynersc",
   "language": "python",
   "name": "condajupynersc"
  },
  "language_info": {
   "codemirror_mode": {
    "name": "ipython",
    "version": 3
   },
   "file_extension": ".py",
   "mimetype": "text/x-python",
   "name": "python",
   "nbconvert_exporter": "python",
   "pygments_lexer": "ipython3",
   "version": "3.7.0"
  }
 },
 "nbformat": 4,
 "nbformat_minor": 4
}
