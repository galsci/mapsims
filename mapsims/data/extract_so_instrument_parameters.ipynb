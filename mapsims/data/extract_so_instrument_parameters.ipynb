{
 "cells": [
  {
   "cell_type": "markdown",
   "metadata": {},
   "source": [
    "# Extract Simons Observatory instrument parameters\n",
    "\n",
    "In order to be independent of `sotodlib` and track versions of the instrument model parameters more easily, we extract them to a file included in this repository.\n",
    "\n",
    "The versioning will be YYYY.MM"
   ]
  },
  {
   "cell_type": "code",
   "execution_count": 1,
   "metadata": {},
   "outputs": [],
   "source": [
    "import numpy as np"
   ]
  },
  {
   "cell_type": "code",
   "execution_count": 2,
   "metadata": {},
   "outputs": [],
   "source": [
    "import sotodlib.sim_hardware as hardware\n",
    "\n",
    "hw = hardware.get_example()"
   ]
  },
  {
   "cell_type": "code",
   "execution_count": 3,
   "metadata": {},
   "outputs": [],
   "source": [
    "import sotodlib"
   ]
  },
  {
   "cell_type": "code",
   "execution_count": 4,
   "metadata": {},
   "outputs": [
    {
     "data": {
      "text/plain": [
       "'0.3.0+6.g0c64e07'"
      ]
     },
     "execution_count": 4,
     "metadata": {},
     "output_type": "execute_result"
    }
   ],
   "source": [
    "sotodlib.__version__"
   ]
  },
  {
   "cell_type": "code",
   "execution_count": 5,
   "metadata": {},
   "outputs": [],
   "source": [
    "import h5py"
   ]
  },
  {
   "cell_type": "code",
   "execution_count": 6,
   "metadata": {},
   "outputs": [],
   "source": [
    "instrument_parameters = h5py.File(\"simonsobs_instrument_parameters_2020.06.h5\", \"w\")"
   ]
  },
  {
   "cell_type": "code",
   "execution_count": 7,
   "metadata": {},
   "outputs": [],
   "source": [
    "fwhm_arcmin = {\"SA\" : hw.data[\"telescopes\"][\"SAT1\"][\"fwhm\"],\n",
    "\"LA\":hw.data[\"telescopes\"][\"LAT\"][\"fwhm\"]}"
   ]
  },
  {
   "cell_type": "code",
   "execution_count": 8,
   "metadata": {},
   "outputs": [],
   "source": [
    "bands = (\"LF1\", \"LF2\", \"MFF1\", \"MFF2\", \"MFS1\", \"MFS2\", \"UHF1\", \"UHF2\")\n",
    "indices = (0, 1, 2, 3, 2, 3, 4, 5)\n",
    "\n",
    "noise_band_index = dict(zip(bands, indices))"
   ]
  },
  {
   "cell_type": "code",
   "execution_count": 9,
   "metadata": {},
   "outputs": [
    {
     "name": "stdout",
     "output_type": "stream",
     "text": [
      "LT0_UHF1\n",
      "LT0_UHF2\n",
      "LT1_UHF1\n",
      "LT1_UHF2\n",
      "LT2_MFF1\n",
      "LT2_MFF2\n",
      "LT3_MFF1\n",
      "LT3_MFF2\n",
      "LT4_MFS1\n",
      "LT4_MFS2\n",
      "LT5_MFS1\n",
      "LT5_MFS2\n",
      "LT6_LF1\n",
      "LT6_LF2\n",
      "ST0_UHF1\n",
      "ST0_UHF2\n",
      "ST1_MFF1\n",
      "ST1_MFF2\n",
      "ST2_MFS1\n",
      "ST2_MFS2\n",
      "ST3_LF1\n",
      "ST3_LF2\n"
     ]
    }
   ],
   "source": [
    "for tube_id, (tube, tube_properties) in enumerate(hw.data[\"tubes\"].items()):\n",
    "    bands = [tube_properties[\"type\"] + num for num in \"12\"]\n",
    "    telescope = tube[0] + \"A\"\n",
    "    for band in bands:\n",
    "        tag = tube + \"_\" + band\n",
    "        print(tag)\n",
    "        ch = instrument_parameters.create_group(tag)\n",
    "        ch.attrs[\"telescope\"] = telescope\n",
    "        ch.attrs[\"band\"] = band\n",
    "        ch.attrs[\"tube\"] = tube\n",
    "        ch.attrs[\"tube_id\"] = tube_id\n",
    "        ch.attrs[\"noise_band_index\"] = noise_band_index[band]\n",
    "        ch.attrs[\"fwhm_arcmin\"] = fwhm_arcmin[telescope][band]\n",
    "        properties = hw.data[\"bands\"][band]\n",
    "        ch.attrs[\"center_frequency_GHz\"] = properties[\"center\"]\n",
    "        ch.create_dataset(\"bandpass_frequency_GHz\", data=np.linspace(properties[\"low\"], properties[\"high\"], 10))\n",
    "        ch.create_dataset(\"bandpass_weight\", data=np.ones(10, dtype=np.float32))"
   ]
  },
  {
   "cell_type": "code",
   "execution_count": 10,
   "metadata": {},
   "outputs": [],
   "source": [
    "instrument_parameters.close()"
   ]
  }
 ],
 "metadata": {
  "kernelspec": {
   "display_name": "healpyvenv",
   "language": "python",
   "name": "healpyvenv"
  },
  "language_info": {
   "codemirror_mode": {
    "name": "ipython",
    "version": 3
   },
   "file_extension": ".py",
   "mimetype": "text/x-python",
   "name": "python",
   "nbconvert_exporter": "python",
   "pygments_lexer": "ipython3",
   "version": "3.7.7"
  }
 },
 "nbformat": 4,
 "nbformat_minor": 4
}
